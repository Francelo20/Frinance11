{
 "cells": [
  {
   "cell_type": "code",
   "execution_count": 1,
   "metadata": {},
   "outputs": [
    {
     "data": {
      "text/plain": [
       "Index(['rmaxtu', 'final'], dtype='object')"
      ]
     },
     "execution_count": 1,
     "metadata": {},
     "output_type": "execute_result"
    }
   ],
   "source": [
    "import pandas as pd\n",
    "\n",
    "A = pd.read_json(\"final.json\")\n",
    "df=pd.DataFrame(A, columns=['rmaxtu','final']) ##columns=[]\n",
    "A.columns      \n",
    "df.columns\n"
   ]
  },
  {
   "cell_type": "code",
   "execution_count": 2,
   "metadata": {},
   "outputs": [],
   "source": [
    "X=df[df.columns[:-1]]\n",
    "Y=df[df.columns[-1:]]\n",
    "\n"
   ]
  },
  {
   "cell_type": "code",
   "execution_count": 3,
   "metadata": {},
   "outputs": [
    {
     "name": "stdout",
     "output_type": "stream",
     "text": [
      "255 64\n"
     ]
    }
   ],
   "source": [
    "from sklearn.model_selection import train_test_split\n",
    "\n",
    "X_train, X_test, Y_train, Y_test=train_test_split(X, Y, test_size=0.2)\n",
    "\n",
    "print(len(X_train),len(X_test))"
   ]
  },
  {
   "cell_type": "code",
   "execution_count": 4,
   "metadata": {},
   "outputs": [
    {
     "data": {
      "text/plain": [
       "LinearRegression()"
      ]
     },
     "execution_count": 4,
     "metadata": {},
     "output_type": "execute_result"
    }
   ],
   "source": [
    "from sklearn.linear_model import LinearRegression\n",
    "\n",
    "funcao_regressao=LinearRegression()\n",
    "\n",
    "funcao_regressao.fit(X_train,Y_train)\n",
    "\n",
    "\n"
   ]
  },
  {
   "cell_type": "code",
   "execution_count": 5,
   "metadata": {},
   "outputs": [
    {
     "data": {
      "text/plain": [
       "0.006250243197269301"
      ]
     },
     "execution_count": 5,
     "metadata": {},
     "output_type": "execute_result"
    }
   ],
   "source": [
    "funcao_regressao.score(X_train, Y_train)"
   ]
  },
  {
   "cell_type": "code",
   "execution_count": 6,
   "metadata": {},
   "outputs": [
    {
     "name": "stdout",
     "output_type": "stream",
     "text": [
      "RMSE 1.633346609505793\n"
     ]
    }
   ],
   "source": [
    "Previsoes= funcao_regressao.predict(X_test)\n",
    "import numpy as np\n",
    "from sklearn import metrics\n",
    "\n",
    "print('RMSE', np.sqrt(metrics.mean_squared_error(Y_test, Previsoes)))"
   ]
  },
  {
   "cell_type": "code",
   "execution_count": 19,
   "metadata": {},
   "outputs": [
    {
     "name": "stdout",
     "output_type": "stream",
     "text": [
      "[[3.23936452]]\n"
     ]
    },
    {
     "name": "stderr",
     "output_type": "stream",
     "text": [
      "C:\\Users\\linka\\AppData\\Local\\Programs\\Python\\Python310\\lib\\site-packages\\sklearn\\base.py:450: UserWarning: X does not have valid feature names, but LinearRegression was fitted with feature names\n",
      "  warnings.warn(\n"
     ]
    }
   ],
   "source": [
    "print(funcao_regressao.predict([[1.0]]))"
   ]
  },
  {
   "cell_type": "code",
   "execution_count": 10,
   "metadata": {},
   "outputs": [
    {
     "data": {
      "text/plain": [
       "rmaxtu    4.659851\n",
       "dtype: float64"
      ]
     },
     "execution_count": 10,
     "metadata": {},
     "output_type": "execute_result"
    }
   ],
   "source": [
    "import statsmodels.api as sm\n",
    "\n",
    "est=sm.OLS(Y,X).fit()\n",
    "est.params"
   ]
  },
  {
   "cell_type": "code",
   "execution_count": 11,
   "metadata": {},
   "outputs": [
    {
     "data": {
      "text/plain": [
       "0.4373567319709897"
      ]
     },
     "execution_count": 11,
     "metadata": {},
     "output_type": "execute_result"
    }
   ],
   "source": [
    "est.rsquared_adj"
   ]
  },
  {
   "cell_type": "code",
   "execution_count": 12,
   "metadata": {},
   "outputs": [
    {
     "data": {
      "text/html": [
       "<table class=\"simpletable\">\n",
       "<caption>OLS Regression Results</caption>\n",
       "<tr>\n",
       "  <th>Dep. Variable:</th>          <td>final</td>      <th>  R-squared (uncentered):</th>      <td>   0.439</td>\n",
       "</tr>\n",
       "<tr>\n",
       "  <th>Model:</th>                   <td>OLS</td>       <th>  Adj. R-squared (uncentered):</th> <td>   0.437</td>\n",
       "</tr>\n",
       "<tr>\n",
       "  <th>Method:</th>             <td>Least Squares</td>  <th>  F-statistic:       </th>          <td>   249.0</td>\n",
       "</tr>\n",
       "<tr>\n",
       "  <th>Date:</th>             <td>Sat, 05 Feb 2022</td> <th>  Prob (F-statistic):</th>          <td>7.90e-42</td>\n",
       "</tr>\n",
       "<tr>\n",
       "  <th>Time:</th>                 <td>23:53:42</td>     <th>  Log-Likelihood:    </th>          <td> -787.96</td>\n",
       "</tr>\n",
       "<tr>\n",
       "  <th>No. Observations:</th>      <td>   319</td>      <th>  AIC:               </th>          <td>   1578.</td>\n",
       "</tr>\n",
       "<tr>\n",
       "  <th>Df Residuals:</th>          <td>   318</td>      <th>  BIC:               </th>          <td>   1582.</td>\n",
       "</tr>\n",
       "<tr>\n",
       "  <th>Df Model:</th>              <td>     1</td>      <th>                     </th>              <td> </td>   \n",
       "</tr>\n",
       "<tr>\n",
       "  <th>Covariance Type:</th>      <td>nonrobust</td>    <th>                     </th>              <td> </td>   \n",
       "</tr>\n",
       "</table>\n",
       "<table class=\"simpletable\">\n",
       "<tr>\n",
       "     <td></td>       <th>coef</th>     <th>std err</th>      <th>t</th>      <th>P>|t|</th>  <th>[0.025</th>    <th>0.975]</th>  \n",
       "</tr>\n",
       "<tr>\n",
       "  <th>rmaxtu</th> <td>    4.6599</td> <td>    0.295</td> <td>   15.779</td> <td> 0.000</td> <td>    4.079</td> <td>    5.241</td>\n",
       "</tr>\n",
       "</table>\n",
       "<table class=\"simpletable\">\n",
       "<tr>\n",
       "  <th>Omnibus:</th>       <td>434.701</td> <th>  Durbin-Watson:     </th> <td>   1.897</td> \n",
       "</tr>\n",
       "<tr>\n",
       "  <th>Prob(Omnibus):</th> <td> 0.000</td>  <th>  Jarque-Bera (JB):  </th> <td>80419.462</td>\n",
       "</tr>\n",
       "<tr>\n",
       "  <th>Skew:</th>          <td> 6.251</td>  <th>  Prob(JB):          </th> <td>    0.00</td> \n",
       "</tr>\n",
       "<tr>\n",
       "  <th>Kurtosis:</th>      <td>79.773</td>  <th>  Cond. No.          </th> <td>    1.00</td> \n",
       "</tr>\n",
       "</table><br/><br/>Notes:<br/>[1] R² is computed without centering (uncentered) since the model does not contain a constant.<br/>[2] Standard Errors assume that the covariance matrix of the errors is correctly specified."
      ],
      "text/plain": [
       "<class 'statsmodels.iolib.summary.Summary'>\n",
       "\"\"\"\n",
       "                                 OLS Regression Results                                \n",
       "=======================================================================================\n",
       "Dep. Variable:                  final   R-squared (uncentered):                   0.439\n",
       "Model:                            OLS   Adj. R-squared (uncentered):              0.437\n",
       "Method:                 Least Squares   F-statistic:                              249.0\n",
       "Date:                Sat, 05 Feb 2022   Prob (F-statistic):                    7.90e-42\n",
       "Time:                        23:53:42   Log-Likelihood:                         -787.96\n",
       "No. Observations:                 319   AIC:                                      1578.\n",
       "Df Residuals:                     318   BIC:                                      1582.\n",
       "Df Model:                           1                                                  \n",
       "Covariance Type:            nonrobust                                                  \n",
       "==============================================================================\n",
       "                 coef    std err          t      P>|t|      [0.025      0.975]\n",
       "------------------------------------------------------------------------------\n",
       "rmaxtu         4.6599      0.295     15.779      0.000       4.079       5.241\n",
       "==============================================================================\n",
       "Omnibus:                      434.701   Durbin-Watson:                   1.897\n",
       "Prob(Omnibus):                  0.000   Jarque-Bera (JB):            80419.462\n",
       "Skew:                           6.251   Prob(JB):                         0.00\n",
       "Kurtosis:                      79.773   Cond. No.                         1.00\n",
       "==============================================================================\n",
       "\n",
       "Notes:\n",
       "[1] R² is computed without centering (uncentered) since the model does not contain a constant.\n",
       "[2] Standard Errors assume that the covariance matrix of the errors is correctly specified.\n",
       "\"\"\""
      ]
     },
     "execution_count": 12,
     "metadata": {},
     "output_type": "execute_result"
    }
   ],
   "source": [
    "est.summary()"
   ]
  },
  {
   "cell_type": "code",
   "execution_count": 13,
   "metadata": {},
   "outputs": [
    {
     "data": {
      "text/plain": [
       "array([1.86394053, 2.19013013, 2.32992567, 2.32992567, 0.37278811,\n",
       "       4.14726768, 0.93197027, 0.93197027, 2.98230485, 1.77074351,\n",
       "       1.16496283, 0.13979554, 0.37278811, 0.65237919, 1.35135689,\n",
       "       1.16496283, 2.32992567, 3.07550188, 0.23299257, 3.12210039,\n",
       "       2.32992567, 3.26189593, 2.56291823, 4.14726768, 0.32618959,\n",
       "       0.51258365, 1.86394053, 4.00747214, 1.86394053, 0.97856878,\n",
       "       1.63094797, 0.41938662, 1.77074351, 3.8676766 , 3.77447958,\n",
       "       0.37278811, 0.83877324, 2.46972121, 3.12210039, 0.41938662,\n",
       "       4.28706322, 3.1686989 , 3.12210039, 0.27959108, 0.93197027,\n",
       "       1.53775094, 1.95713756, 3.8676766 , 2.60951674, 1.16496283,\n",
       "       2.32992567, 4.42685876, 0.32618959, 0.83877324, 2.7959108 ,\n",
       "       3.54148701, 2.32992567, 0.83877324, 0.13979554, 1.16496283,\n",
       "       1.07176581, 2.65611526, 4.00747214, 0.37278811, 0.93197027,\n",
       "       4.00747214, 2.93570634, 1.16496283, 0.97856878, 0.60578067,\n",
       "       4.1938662 , 2.65611526, 4.38026025, 3.91427512, 0.23299257,\n",
       "       0.27959108, 2.84250931, 4.33366174, 3.91427512, 0.93197027,\n",
       "       3.12210039, 1.16496283, 3.4948885 , 2.65611526, 2.32992567,\n",
       "       0.37278811, 3.1686989 , 0.60578067, 0.79217473, 2.56291823,\n",
       "       2.32992567, 1.77074351, 3.1686989 , 0.37278811, 3.35509296,\n",
       "       3.91427512, 2.88910782, 4.38026025, 0.79217473, 3.8676766 ,\n",
       "       0.79217473, 4.24046471, 1.16496283, 0.18639405, 0.41938662,\n",
       "       1.53775094, 3.72788106, 4.42685876, 0.18639405, 0.65237919,\n",
       "       4.00747214, 2.32992567, 0.27959108, 2.05033459, 1.67754648,\n",
       "       0.37278811, 0.27959108, 0.60578067, 1.53775094, 1.35135689,\n",
       "       0.41938662, 0.93197027, 4.10066917, 3.77447958, 3.1686989 ,\n",
       "       3.12210039, 2.32992567, 0.23299257, 2.65611526, 2.32992567,\n",
       "       2.65611526, 0.93197027, 3.12210039, 3.21529742, 4.24046471,\n",
       "       0.27959108, 3.8676766 , 1.53775094, 4.05407066, 3.8676766 ,\n",
       "       3.40169147, 0.46598513, 3.54148701, 0.79217473, 3.12210039,\n",
       "       2.32992567, 2.19013013, 3.35509296, 3.63468404, 4.14726768,\n",
       "       2.19013013, 1.16496283, 1.53775094, 2.19013013, 0.32618959,\n",
       "       3.68128255, 2.60951674, 3.1686989 , 2.60951674, 2.19013013,\n",
       "       2.42312269, 1.16496283, 2.32992567, 0.93197027, 0.37278811,\n",
       "       3.54148701, 0.37278811, 2.32992567, 3.26189593, 4.00747214,\n",
       "       2.98230485, 3.82107809, 2.7959108 , 4.14726768, 3.91427512,\n",
       "       3.26189593, 4.38026025, 2.7959108 , 3.30849444, 1.53775094,\n",
       "       4.1938662 , 0.93197027, 3.02890336, 2.65611526, 0.41938662,\n",
       "       3.30849444, 2.56291823, 1.77074351, 1.16496283, 3.02890336,\n",
       "       3.54148701, 2.05033459, 4.38026025, 0.27959108, 3.07550188,\n",
       "       2.46972121, 2.60951674, 0.09319703, 2.19013013, 0.32618959,\n",
       "       2.88910782, 0.37278811, 4.24046471, 4.10066917, 0.13979554,\n",
       "       0.09319703, 1.53775094, 1.81734202, 2.05033459, 1.49115243,\n",
       "       1.53775094, 3.1686989 , 2.32992567, 2.05033459, 1.16496283,\n",
       "       1.77074351, 3.72788106, 1.53775094, 0.79217473, 1.16496283,\n",
       "       1.16496283, 2.7959108 , 0.41938662, 1.16496283, 1.16496283,\n",
       "       1.77074351, 3.77447958, 0.65237919, 0.93197027, 0.37278811,\n",
       "       0.93197027, 0.65237919, 0.32618959, 2.7959108 , 2.42312269,\n",
       "       2.65611526, 1.16496283, 0.32618959, 3.1686989 , 1.16496283,\n",
       "       4.38026025, 2.19013013, 2.32992567, 2.7959108 , 3.91427512,\n",
       "       1.53775094, 2.32992567, 2.32992567, 0.37278811, 2.7959108 ,\n",
       "       1.25815986, 0.83877324, 1.86394053, 3.91427512, 1.53775094,\n",
       "       3.44828998, 2.42312269, 2.0969331 , 3.8676766 , 2.05033459,\n",
       "       4.33366174, 2.05033459, 0.37278811, 4.33366174, 1.81734202,\n",
       "       2.56291823, 3.8676766 , 3.02890336, 3.54148701, 3.30849444,\n",
       "       0.41938662, 0.41938662, 3.91427512, 2.05033459, 2.46972121,\n",
       "       2.65611526, 3.77447958, 2.65611526, 3.63468404, 3.72788106,\n",
       "       0.65237919, 2.98230485, 1.53775094, 1.44455391, 2.32992567,\n",
       "       0.37278811, 0.79217473, 1.53775094, 2.19013013, 3.58808552,\n",
       "       1.16496283, 1.53775094, 2.93570634, 1.53775094, 2.32992567,\n",
       "       3.1686989 , 3.54148701, 2.65611526, 3.1686989 , 0.27959108,\n",
       "       2.46972121, 2.7959108 , 2.65611526, 0.79217473, 1.44455391,\n",
       "       3.72788106, 3.4948885 , 2.32992567, 3.63468404, 4.05407066,\n",
       "       0.51258365, 2.19013013, 2.46972121, 0.27959108, 2.32992567,\n",
       "       3.4948885 , 2.56291823, 3.54148701, 3.40169147])"
      ]
     },
     "execution_count": 13,
     "metadata": {},
     "output_type": "execute_result"
    }
   ],
   "source": [
    "est.predict()"
   ]
  },
  {
   "cell_type": "code",
   "execution_count": 15,
   "metadata": {},
   "outputs": [
    {
     "data": {
      "text/plain": [
       "Text(0, 0.5, 'final')"
      ]
     },
     "execution_count": 15,
     "metadata": {},
     "output_type": "execute_result"
    },
    {
     "data": {
      "image/png": "[encoded data removed]",
      "text/plain": [
       "<Figure size 432x288 with 1 Axes>"
      ]
     },
     "metadata": {
      "needs_background": "light"
     },
     "output_type": "display_data"
    }
   ],
   "source": [
    "\n",
    "import matplotlib.pyplot as plt\n",
    "##plt.figure(figsize=(10,10))\n",
    "##plt.scatter(X_train, Y_train)\n",
    "##plt.plot(X_test, funcao_regressao.predict(X_test), color='red')\n",
    "plt.plot(df['rmaxtu'], est.predict(),'r-', label='predicted' )\n",
    "\n",
    "plt.plot(df['rmaxtu'], df['final'], 'kx', label='data'  )\n",
    "plt.xlabel('rmaxtu')\n",
    "plt.ylabel('final')"
   ]
  },
  {
   "cell_type": "code",
   "execution_count": null,
   "metadata": {},
   "outputs": [],
   "source": []
  }
 ],
 "metadata": {
  "interpreter": {
   "hash": "139d1936356acbcc72ab221bcc6bacef00209d526a3aece54ab9c1580f6938ba"
  },
  "kernelspec": {
   "display_name": "Python 3.10.2 64-bit",
   "language": "python",
   "name": "python3"
  },
  "language_info": {
   "codemirror_mode": {
    "name": "ipython",
    "version": 3
   },
   "file_extension": ".py",
   "mimetype": "text/x-python",
   "name": "python",
   "nbconvert_exporter": "python",
   "pygments_lexer": "ipython3",
   "version": "3.10.2"
  },
  "orig_nbformat": 4
 },
 "nbformat": 4,
 "nbformat_minor": 2
}
